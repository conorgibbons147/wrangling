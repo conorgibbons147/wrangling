{
  "cells": [
    {
      "cell_type": "markdown",
      "id": "13ad028b-72b7-43ed-aa78-96fd4e518040",
      "metadata": {
        "id": "13ad028b-72b7-43ed-aa78-96fd4e518040"
      },
      "source": [
        "# Assignment: Data Wrangling\n",
        "### `! git clone https://github.com/ds4e/wrangling`\n",
        "### Do Q2, and one of Q1 or Q3."
      ]
    },
    {
      "cell_type": "markdown",
      "id": "da879ea7-8aac-48a3-b6c2-daea56d2e072",
      "metadata": {
        "id": "da879ea7-8aac-48a3-b6c2-daea56d2e072"
      },
      "source": [
        "**Q1.** This question provides some practice cleaning variables which have common problems.\n",
        "1. Numeric variable: For `./data/airbnb_hw.csv`, clean the `Price` variable as well as you can, and explain the choices you make. How many missing values do you end up with? (Hint: What happens to the formatting when a price goes over 999 dollars, say from 675 to 1,112?)\n",
        "2. Categorical variable: For the Minnesota police use of for data, `./data/mn_police_use_of_force.csv`, clean the `subject_injury` variable, handling the NA's; this gives a value `Yes` when a person was injured by police, and `No` when no injury occurred. What proportion of the values are missing? Is this a concern? Cross-tabulate your cleaned `subject_injury` variable with the `force_type` variable. Are there any patterns regarding when the data are missing? \n",
        "3. Dummy variable: For the pretrial data covered in the lecture, clean the `WhetherDefendantWasReleasedPretrial` variable as well as you can, and, in particular, replace missing values with `np.nan`.\n",
        "4. Missing values, not at random: For the pretrial data covered in the lecture, clean the `ImposedSentenceAllChargeInContactEvent` variable as well as you can, and explain the choices you make. (Hint: Look at the `SentenceTypeAllChargesAtConvictionInContactEvent` variable.)"
      ]
    },
    {
      "cell_type": "code",
      "execution_count": 68,
      "id": "920db8f4",
      "metadata": {},
      "outputs": [
        {
          "name": "stdout",
          "output_type": "stream",
          "text": [
            "Missing values: 0\n"
          ]
        }
      ],
      "source": [
        "# 1.\n",
        "import pandas as pd \n",
        "import numpy as np \n",
        "import matplotlib.pyplot as plt\n",
        "\n",
        "# Create data frame from the csv file\n",
        "df = pd.read_csv('./data/airbnb_hw.csv')\n",
        "\n",
        "# Remove any dollar signs, commas, or spaces in the data\n",
        "df['Price'] = df['Price'].replace('\\$', '', regex=True)\n",
        "df['Price'] = df['Price'].replace(',', '', regex=True)\n",
        "df['Price'] = df['Price'].replace(' ', '', regex=True)\n",
        "\n",
        "# Convert Price variable to numeric values\n",
        "df['Price'] = pd.to_numeric(df['Price'], errors='coerce')\n",
        "\n",
        "# Check for null/missing values\n",
        "print('Missing values:', sum(df['Price'].isnull()))\n",
        "\n",
        "# In the end we end up with zero missing values"
      ]
    },
    {
      "cell_type": "code",
      "execution_count": null,
      "id": "d9f46bd3",
      "metadata": {},
      "outputs": [
        {
          "name": "stdout",
          "output_type": "stream",
          "text": [
            "0.7619342359767892\n",
            "['None' 'No' 'Yes']\n",
            "subject_injury\n",
            "None    9848\n",
            "Yes     1631\n",
            "No      1446\n",
            "Name: count, dtype: int64\n"
          ]
        },
        {
          "data": {
            "text/html": [
              "<div>\n",
              "<style scoped>\n",
              "    .dataframe tbody tr th:only-of-type {\n",
              "        vertical-align: middle;\n",
              "    }\n",
              "\n",
              "    .dataframe tbody tr th {\n",
              "        vertical-align: top;\n",
              "    }\n",
              "\n",
              "    .dataframe thead th {\n",
              "        text-align: right;\n",
              "    }\n",
              "</style>\n",
              "<table border=\"1\" class=\"dataframe\">\n",
              "  <thead>\n",
              "    <tr style=\"text-align: right;\">\n",
              "      <th>force_type</th>\n",
              "      <th>Baton</th>\n",
              "      <th>Bodily Force</th>\n",
              "      <th>Chemical Irritant</th>\n",
              "      <th>Firearm</th>\n",
              "      <th>Gun Point Display</th>\n",
              "      <th>Improvised Weapon</th>\n",
              "      <th>Less Lethal</th>\n",
              "      <th>Less Lethal Projectile</th>\n",
              "      <th>Maximal Restraint Technique</th>\n",
              "      <th>Police K9 Bite</th>\n",
              "      <th>Taser</th>\n",
              "    </tr>\n",
              "    <tr>\n",
              "      <th>subject_injury</th>\n",
              "      <th></th>\n",
              "      <th></th>\n",
              "      <th></th>\n",
              "      <th></th>\n",
              "      <th></th>\n",
              "      <th></th>\n",
              "      <th></th>\n",
              "      <th></th>\n",
              "      <th></th>\n",
              "      <th></th>\n",
              "      <th></th>\n",
              "    </tr>\n",
              "  </thead>\n",
              "  <tbody>\n",
              "    <tr>\n",
              "      <th>No</th>\n",
              "      <td>0</td>\n",
              "      <td>1093</td>\n",
              "      <td>131</td>\n",
              "      <td>2</td>\n",
              "      <td>33</td>\n",
              "      <td>34</td>\n",
              "      <td>0</td>\n",
              "      <td>1</td>\n",
              "      <td>0</td>\n",
              "      <td>2</td>\n",
              "      <td>150</td>\n",
              "    </tr>\n",
              "    <tr>\n",
              "      <th>None</th>\n",
              "      <td>2</td>\n",
              "      <td>7051</td>\n",
              "      <td>1421</td>\n",
              "      <td>0</td>\n",
              "      <td>27</td>\n",
              "      <td>74</td>\n",
              "      <td>87</td>\n",
              "      <td>0</td>\n",
              "      <td>170</td>\n",
              "      <td>31</td>\n",
              "      <td>985</td>\n",
              "    </tr>\n",
              "    <tr>\n",
              "      <th>Yes</th>\n",
              "      <td>2</td>\n",
              "      <td>1286</td>\n",
              "      <td>41</td>\n",
              "      <td>0</td>\n",
              "      <td>44</td>\n",
              "      <td>40</td>\n",
              "      <td>0</td>\n",
              "      <td>2</td>\n",
              "      <td>0</td>\n",
              "      <td>44</td>\n",
              "      <td>172</td>\n",
              "    </tr>\n",
              "  </tbody>\n",
              "</table>\n",
              "</div>"
            ],
            "text/plain": [
              "force_type      Baton  Bodily Force  Chemical Irritant  Firearm  \\\n",
              "subject_injury                                                    \n",
              "No                  0          1093                131        2   \n",
              "None                2          7051               1421        0   \n",
              "Yes                 2          1286                 41        0   \n",
              "\n",
              "force_type      Gun Point Display  Improvised Weapon  Less Lethal  \\\n",
              "subject_injury                                                      \n",
              "No                             33                 34            0   \n",
              "None                           27                 74           87   \n",
              "Yes                            44                 40            0   \n",
              "\n",
              "force_type      Less Lethal Projectile  Maximal Restraint Technique  \\\n",
              "subject_injury                                                        \n",
              "No                                   1                            0   \n",
              "None                                 0                          170   \n",
              "Yes                                  2                            0   \n",
              "\n",
              "force_type      Police K9 Bite  Taser  \n",
              "subject_injury                         \n",
              "No                           2    150  \n",
              "None                        31    985  \n",
              "Yes                         44    172  "
            ]
          },
          "execution_count": 75,
          "metadata": {},
          "output_type": "execute_result"
        }
      ],
      "source": [
        "# 2.\n",
        "# Create data frame from the csv file\n",
        "mn = pd.read_csv('./data/mn_police_use_of_force.csv')\n",
        "\n",
        "# Count missing values and yes/no values then find the proportion\n",
        "nan = sum(mn['subject_injury'].isnull())\n",
        "yn = mn['subject_injury'].count()\n",
        "prop = nan / (nan + yn)\n",
        "print(prop) # We see that 76% of all entries into the subject injury variable are missing - This is a major concern since it means police are not reporting injuries\n",
        "\n",
        "# Since there are so many missing values I am going to make the nan values their own variable; the fact that they are missing gives us an important insight so it should be a value\n",
        "mn['subject_injury'] = mn['subject_injury'].replace(np.nan, 'None', regex=True)\n",
        "print(mn['subject_injury'].unique())\n",
        "print(mn['subject_injury'].value_counts())\n",
        "\n",
        "# Cross tabulate subject_injury with the force_type variable\n",
        "pd.crosstab(mn['subject_injury'], mn['force_type'])\n",
        "\n",
        "# We see that a large proportion of cases that involve chemical irritants, bodily force and taser tend to have missing values\n",
        "# While this is also true for the less lethal projectile and maximal restraint technique columns, we see that they only have missing values which implies these cases may be assumed to cause no injury or some other outside reason, so we will not look too into these"
      ]
    },
    {
      "cell_type": "code",
      "execution_count": 87,
      "id": "df9ef9b0",
      "metadata": {},
      "outputs": [
        {
          "name": "stderr",
          "output_type": "stream",
          "text": [
            "/tmp/ipykernel_3205/670556606.py:5: DtypeWarning: Columns (1,4,5,7,79,80,81,82,83,84,108,163,164,165,166,168,169,170,171,172,173,174,175,176,177,178,179,180,181,182,183,184,185,186,187,188,189,190,191,192,193,194,195,196,197,198,199,200,201,202,203,204,205,206,207,208,209,210,211,212,213,214,215,216,217,218,219,220,221,222,223,224,225,226,227,228,229,230,231,232,233,234,235,236,237,238,239,240,241,242,243,244,245,246,247,248,249,250,251,252,253,254,255,256,257,258,259,260,261,262,263,264,265,266,267,268,270,271,272,273,275,276,277,278,279,280,281,282,283,284,285,286,287,288,289,290,291,292,293,294,295,296,297,301,302,303,306,307,308,309,310,311,312,313,314,315,316,317,318,319,320,321,322,323,324,325,326,327,328,329,330,331,332,333,334,335,336,337,338,339,340,341,342,343,344,345,346,347,348,349,350,351,352,353,354,355,356,357,358,359,360,361,362,363,364,365,366,367,368,369,370,371,372,373,374,375,376,377,378,379,380,381,382,383,384,385,386,387,388,389,390,391,392,393,394,395,396,397,398,399,400,401,402,403,404,405,406,407,408,409,410,411,412,413,414,415,416,417,418,419,420,421,422,423,424,425,426,427,428,429,430,431,432,433,434,435,436,437,438,439,440,441,442,443,444,445,446,447,448,449,450,451,452,453,454,455,456,457,458,459,460,461,462,463,464,465,466,467,468,469,470,471,472,473,474,475,476,477,478,479,480,481,482,483,484,485,486,487,488,489,490,491,492,493,494,495,496,497,498,499,500,502,503,504,505,506,507,508,509,510,511,512,513,514,515,516,517,518,519,520,521,522,523,524,525,526,527,528,529,530,531,532,533,534,535,536,537,538,539,540,541,542,543,544,545,706) have mixed types. Specify dtype option on import or set low_memory=False.\n",
            "  df = pd.read_csv(url)\n"
          ]
        },
        {
          "name": "stdout",
          "output_type": "stream",
          "text": [
            "[9 0 1]\n",
            "WhetherDefendantWasReleasedPretrial\n",
            "1    19154\n",
            "0     3801\n",
            "9       31\n",
            "Name: count, dtype: int64\n",
            "[nan  0.  1.]\n"
          ]
        }
      ],
      "source": [
        "# 3.\n",
        "\n",
        "# Import data\n",
        "url = 'http://www.vcsc.virginia.gov/pretrialdataproject/October%202017%20Cohort_Virginia%20Pretrial%20Data%20Project_Deidentified%20FINAL%20Update_10272021.csv'\n",
        "df = pd.read_csv(url)\n",
        "\n",
        "# Check for unique values and count them up\n",
        "print(df['WhetherDefendantWasReleasedPretrial'].unique())\n",
        "print(df['WhetherDefendantWasReleasedPretrial'].value_counts())\n",
        "\n",
        "# Replace 9 with np.nan, assuming 9 is a missing value\n",
        "df['WhetherDefendantWasReleasedPretrial'] = df['WhetherDefendantWasReleasedPretrial'].replace(9, np.nan, regex=True)\n",
        "\n",
        "# Check for unique values to make sure that the missing values were correctly replaced\n",
        "print(df['WhetherDefendantWasReleasedPretrial'].unique())"
      ]
    },
    {
      "cell_type": "code",
      "execution_count": 115,
      "id": "40127a8c",
      "metadata": {},
      "outputs": [
        {
          "name": "stderr",
          "output_type": "stream",
          "text": [
            "/tmp/ipykernel_3205/904032260.py:4: DtypeWarning: Columns (1,4,5,7,79,80,81,82,83,84,108,163,164,165,166,168,169,170,171,172,173,174,175,176,177,178,179,180,181,182,183,184,185,186,187,188,189,190,191,192,193,194,195,196,197,198,199,200,201,202,203,204,205,206,207,208,209,210,211,212,213,214,215,216,217,218,219,220,221,222,223,224,225,226,227,228,229,230,231,232,233,234,235,236,237,238,239,240,241,242,243,244,245,246,247,248,249,250,251,252,253,254,255,256,257,258,259,260,261,262,263,264,265,266,267,268,270,271,272,273,275,276,277,278,279,280,281,282,283,284,285,286,287,288,289,290,291,292,293,294,295,296,297,301,302,303,306,307,308,309,310,311,312,313,314,315,316,317,318,319,320,321,322,323,324,325,326,327,328,329,330,331,332,333,334,335,336,337,338,339,340,341,342,343,344,345,346,347,348,349,350,351,352,353,354,355,356,357,358,359,360,361,362,363,364,365,366,367,368,369,370,371,372,373,374,375,376,377,378,379,380,381,382,383,384,385,386,387,388,389,390,391,392,393,394,395,396,397,398,399,400,401,402,403,404,405,406,407,408,409,410,411,412,413,414,415,416,417,418,419,420,421,422,423,424,425,426,427,428,429,430,431,432,433,434,435,436,437,438,439,440,441,442,443,444,445,446,447,448,449,450,451,452,453,454,455,456,457,458,459,460,461,462,463,464,465,466,467,468,469,470,471,472,473,474,475,476,477,478,479,480,481,482,483,484,485,486,487,488,489,490,491,492,493,494,495,496,497,498,499,500,502,503,504,505,506,507,508,509,510,511,512,513,514,515,516,517,518,519,520,521,522,523,524,525,526,527,528,529,530,531,532,533,534,535,536,537,538,539,540,541,542,543,544,545,706) have mixed types. Specify dtype option on import or set low_memory=False.\n",
            "  df = pd.read_csv(url)\n"
          ]
        },
        {
          "name": "stdout",
          "output_type": "stream",
          "text": [
            " 6012.985626283367556366245.913757700205341207211.991786447638602.9568788501026784108300240180496254.328542094455852445115132482583476.164271047227926.131416837782341111931.9712525667351136.9856262833676.065708418891170435.4928131416838106.49281314168483518.314168377823448032932347321.164271047227934.65708418891172174.492813141683781860043.164271047227917952302019270214555311.905544147843911435.006160164271168.65708418891170446.6242299794661102652005724.328542094455912.164271047227911781.492813141683822.492813141683819803.657084188911756102.7926078028747414722150040284111184216215647.295687885010310551246297532436034.4804928131417120.32854209445659.92607802874746659.991786447638666051.164271047227914.95687885010273.98562628336756782281.47843942505133624.886168233348.032854209445672034812002749874206379.926078028747457.034907597535949.971252566735159.492813141683817238.49281314168460.98562628336761264515821622742.956878850102744570.952772073922516177.8213552361417529010801414.8295687885010323031220852.5133470225873692633.4928131416838140131344219101715958120.1971252566746735.40041067761813.2854209445585240.1642710472279911.774127310061615534.49281314168388192.32854209445593.548254620123220774518288.95687885010267237404.67351129363418.164271047227910.743326488706455139151244317619.4928131416838482129884645.8542094455852128.628336755647136.492813141684108.32854209445650363.66324435318328825010781.022587268993844420510.65708418891171966.985626283367638.49281314168382642761732221442943364314507399.328542094455912830.806981519507231.525667351129412720255.3285420944559892421.314168377823411029.788501026694045194.85831622176639939.657084188911756.95687885198120.98562628336847.65708418891171486.899383983572965.32854209445595.95277207392197.09856262833675573.328542094455853.9425051334702312.98562628336766.9856262833675613.149897330595515.164271047227917.197125256673517.913757700205310421224.657084188911772.65708418891172.98562628336756144.98562628336831.97125256673511834.9856262833675611.821355236139625212.39425051334742.492813141683810.164271047227911.16427104722795.4928131416837859.663244353182712.328542094455948.9856262833676240.9856262833682.65708418891175402.971252566735116.3285420944558523.6632443531828133.65708418891235.32854209445594561031.7227926078028712.657084188911711.657084188911760.32854209445593.788501026694055762.1314168377823449214.985626283367624.985626283367661.97125256673515.65708418891171642.1642710472279.49281314168377813813.314168377823411.89322381930185.328542094455859562.65708418891173.0882956878850111.82751540041071.6427104722792647.99178644763864.271047227926088.328542094455853.3141683778234170771.0985626283367648.164271047227927.49281314168386.938398357289531011.689938398357291.11704312114991.492813141683784.164271047227931.197125256673514.0739219712525718811.3285420944559.032854209445585243211.95277207392236.492813141683823.98357289527729.985626283367569836.3285420944559112.39425051334702313.26283367556468213.79876796714585.88706365503083545.9199178644763924.164271047227962.956878854.599589322381931232.3285420944558523.924024640657120419717416.149897330595584044098.9568788517.95277207392263.942505133470260.131416837782312.1314168377823172.952772073922.197125256673511138.1642710472284.92813141683778.91991786447638618.98562628336766.65708418891172.854209445585228.9137577002053414612.4928131416838.558521560574949.7227926078028755.8213552361396384.98562628336766.1642710472279315.985626283367664.558521560574938.29979466119111.9589322381933.1211498973306126.3285420944565.164271047227936442.657084188911731219.971252566735182.328542094455923.971252566735117.6242299794661121.97125256673559.65503080082141.328542094455857.971252566735111.91991786447639.5256673511293639.3285420944558542.985626283367641.913757700205372.985626283367612.47843942505135.1909650924024647316.657084188911710986.3285420944559411.9055441478439494.16427104722793024.3942505133470210.821355236139618.328542094455915483110.95687885010322696.03285420944564.8213552361396330.328542094455937.971252566735150.46406570841892869999.49281314168382.661190965092470.971252566735113.971252566735123.6570841889117.459958932238193132.49281314168428349.314168377823427.9856262833676387.657084188911783.655030800821410.9199178644764162.32854209445637132.32854209445635.95277207392216510.985626283367620.16427104722792.59137577002053175180.98562628336810.328542094455936.1642710472279120.6570841889122321528.9856262833675616711.065708418891211.20328542094465.197125256673513.1642710472279360.16427104722791.1827515400410721.16427104722792.197125256673514.197125256673512.62833675564682119.952772073922119.9589322381939.492813141683785.2566735112936315.32854209445592.82135523613963192.98562628336848.65708418891175.956878850102672.299794661190979602.3655030800821411619.51334702258731.6570841889117\n",
            "[9 0 1 4 2]\n"
          ]
        }
      ],
      "source": [
        "# 4. \n",
        "# Import data\n",
        "url = 'http://www.vcsc.virginia.gov/pretrialdataproject/October%202017%20Cohort_Virginia%20Pretrial%20Data%20Project_Deidentified%20FINAL%20Update_10272021.csv'\n",
        "df = pd.read_csv(url)\n",
        "\n",
        "print(df['ImposedSentenceAllChargeInContactEvent'].unique().sum())\n",
        "print(df['SentenceTypeAllChargesAtConvictionInContactEvent'].unique())"
      ]
    },
    {
      "cell_type": "markdown",
      "id": "5a60a44e",
      "metadata": {},
      "source": [
        "**Q2.** Go to https://sharkattackfile.net/ and download their dataset on shark attacks.\n",
        "\n",
        "1. Open the shark attack file using Pandas. It is probably not a csv file, so `read_csv` won't work.\n",
        "2. Drop any columns that do not contain data.\n",
        "3. Clean the year variable. Describe the range of values you see. Filter the rows to focus on attacks since 1940. Are attacks increasing, decreasing, or remaining constant over time?\n",
        "4. Clean the Age variable and make a histogram of the ages of the victims.\n",
        "5. What proportion of victims are male?\n",
        "6. Clean the `Type` variable so it only takes three values: Provoked and Unprovoked and Unknown. What proportion of attacks are unprovoked?\n",
        "7. Clean the `Fatal Y/N` variable so it only takes three values: Y, N, and Unknown.\n",
        "8. Are sharks more likely to launch unprovoked attacks on men or women? Is the attack more or less likely to be fatal when the attack is provoked or unprovoked? Is it more or less likely to be fatal when the victim is male or female? How do you feel about sharks?\n",
        "9. What proportion of attacks appear to be by white sharks? (Hint: `str.split()` makes a vector of text values into a list of lists, split by spaces.)"
      ]
    },
    {
      "cell_type": "markdown",
      "id": "5735a4d4-8be8-433a-a351-70eb8002e632",
      "metadata": {
        "id": "5735a4d4-8be8-433a-a351-70eb8002e632"
      },
      "source": [
        "**Q3.** Open the \"tidy_data.pdf\" document in the repo, which is a paper called Tidy Data by Hadley Wickham.\n",
        "\n",
        "  1. Read the abstract. What is this paper about?\n",
        "  2. Read the introduction. What is the \"tidy data standard\" intended to accomplish?\n",
        "  3. Read the intro to section 2. What does this sentence mean: \"Like families, tidy datasets are all alike but every messy dataset is messy in its own way.\" What does this sentence mean: \"For a given dataset, it’s usually easy to figure out what are observations and what are variables, but it is surprisingly difficult to precisely define variables and observations in general.\"\n",
        "  4. Read Section 2.2. How does Wickham define values, variables, and observations?\n",
        "  5. How is \"Tidy Data\" defined in section 2.3?\n",
        "  6. Read the intro to Section 3 and Section 3.1. What are the 5 most common problems with messy datasets? Why are the data in Table 4 messy? What is \"melting\" a dataset?\n",
        "  7. Why, specifically, is table 11 messy but table 12 tidy and \"molten\"?\n",
        "  8. Read Section 6. What is the \"chicken-and-egg\" problem with focusing on tidy data? What does Wickham hope happens in the future with further work on the subject of data wrangling?"
      ]
    },
    {
      "cell_type": "markdown",
      "id": "649494cd-cfd6-4f80-992a-9994fc19e1d5",
      "metadata": {
        "id": "649494cd-cfd6-4f80-992a-9994fc19e1d5"
      },
      "source": [
        "**Q4.** Many important datasets contain a race variable, typically limited to a handful of values often including Black, White, Asian, Latino, and Indigenous. This question looks at data gathering efforts on this variable by the U.S. Federal government.\n",
        "\n",
        "1. How did the most recent US Census gather data on race?\n",
        "2. Why do we gather these data? What role do these kinds of data play in politics and society? Why does data quality matter?\n",
        "3. Please provide a constructive criticism of how the Census was conducted: What was done well? What do you think was missing? How should future large scale surveys be adjusted to best reflect the diversity of the population? Could some of the Census' good practices be adopted more widely to gather richer and more useful data?\n",
        "4. How did the Census gather data on sex and gender? Please provide a similar constructive criticism of their practices.\n",
        "5. When it comes to cleaning data, what concerns do you have about protected characteristics like sex, gender, sexual identity, or race? What challenges can you imagine arising when there are missing values? What good or bad practices might people adopt, and why?\n",
        "6. Suppose someone invented an algorithm to impute values for protected characteristics like race, gender, sex, or sexuality. What kinds of concerns would you have?"
      ]
    }
  ],
  "metadata": {
    "colab": {
      "provenance": []
    },
    "kernelspec": {
      "display_name": "Python 3",
      "language": "python",
      "name": "python3"
    },
    "language_info": {
      "codemirror_mode": {
        "name": "ipython",
        "version": 3
      },
      "file_extension": ".py",
      "mimetype": "text/x-python",
      "name": "python",
      "nbconvert_exporter": "python",
      "pygments_lexer": "ipython3",
      "version": "3.10.12"
    }
  },
  "nbformat": 4,
  "nbformat_minor": 5
}
